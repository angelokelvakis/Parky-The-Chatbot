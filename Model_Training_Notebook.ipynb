{
 "cells": [
  {
   "cell_type": "markdown",
   "metadata": {},
   "source": [
    "# Intent Classification For Chatbots With Applications For Querying Chicago Parks Department Event Website Using RF, SVM, and KNN models.\n",
    "\n",
    "## Angelo Kelvakis\n",
    "### DSC 540: ML Final Project"
   ]
  },
  {
   "cell_type": "markdown",
   "metadata": {},
   "source": [
    "### Intro\n",
    "This project looks at classifying subsets of text (intents) from a small repository found on github using Random Forest Classification, and SVM models. The data was formatted to hold one or several Intent classes per document with a Header section, an Intent Title, a list of several User Input examples, and a Bot Response. The original data was paired down and then appended with Chicago Parks Events specific user inputs, as well as several intents were increased in volume in order to better predict that specific class. In order to construct a model, the documents were translated into a pandas dataframe, and then tokenized and tf-idf transformed for model input. "
   ]
  },
  {
   "cell_type": "markdown",
   "metadata": {},
   "source": [
    "Original data source: https://github.com/jalizadeh/Chatbot-Dialog-Dataset"
   ]
  },
  {
   "cell_type": "code",
   "execution_count": 95,
   "metadata": {},
   "outputs": [],
   "source": [
    "import numpy as np\n",
    "import pandas as pd\n",
    "from ast import literal_eval\n",
    "\n",
    "import matplotlib.pyplot as plt\n",
    "\n",
    "from sklearn.feature_extraction.text import TfidfVectorizer, CountVectorizer\n",
    "from sklearn.feature_extraction.text import TfidfTransformer\n",
    "from sklearn.model_selection import train_test_split\n",
    "from sklearn.metrics import confusion_matrix,accuracy_score,roc_auc_score,roc_curve,auc,f1_score,classification_report\n",
    "from sklearn.ensemble import RandomForestClassifier\n",
    "from sklearn.model_selection import GridSearchCV\n",
    "from sklearn.naive_bayes import MultinomialNB\n",
    "from sklearn import metrics\n",
    "from sklearn import neighbors, tree\n",
    "from sklearn import preprocessing\n",
    "from sklearn.model_selection import GridSearchCV\n",
    "from sklearn.svm import SVC\n",
    "from sklearn.preprocessing import MinMaxScaler\n",
    "from sklearn.model_selection import KFold\n",
    "from sklearn.ensemble import AdaBoostClassifier\n",
    "from sklearn.ensemble import RandomForestClassifier\n",
    "from sklearn.ensemble import GradientBoostingClassifier\n",
    "import random\n",
    "import os\n",
    "import re\n",
    "import pandas as pd"
   ]
  },
  {
   "cell_type": "markdown",
   "metadata": {},
   "source": [
    "### Document Processing"
   ]
  },
  {
   "cell_type": "code",
   "execution_count": null,
   "metadata": {},
   "outputs": [],
   "source": [
    "def doc_processing(document):\n",
    "    # collect index for all occurences of dashed lines\n",
    "    p = [m.start() for m in re.finditer('------------------------', document)]\n",
    "    intents_list = []\n",
    "    # iterate through document and generate list between the dashed lines\n",
    "    for i in range(0, len(p)):\n",
    "        try:  # avoid last iteration\n",
    "            intents_list.append(document[p[i]:p[i + 1]])\n",
    "        except:\n",
    "            intents_list.append(document[p[i]:])\n",
    "    # remove the first line containing the info about document formatting\n",
    "    intents_list = intents_list[1:]\n",
    "    # create a tag counter to collect n-1 tags (there is no tag on the last list)\n",
    "    tag_counter = len(intents_list) - 1\n",
    "    # create counter for obtaining non-tag items\n",
    "    counter = 1\n",
    "    # create a tag list to store all tags\n",
    "    tag_list = []\n",
    "    # create list of user inputs\n",
    "    user_list = []\n",
    "    # create list of responses\n",
    "    response_list = []\n",
    "\n",
    "    # iterate through list of tags\n",
    "    for l in intents_list:\n",
    "        # split list by new line\n",
    "        t = l.split('\\n')\n",
    "        # remove blank spaces\n",
    "        while \"\" in t:\n",
    "            t.remove(\"\")\n",
    "\n",
    "        # remove dashes separating tags\n",
    "        t = t[1:]\n",
    "        # collect the tags for each group of responses\n",
    "        if tag_counter >= 1:\n",
    "            # append to list of tags\n",
    "            tag_list.append(t[-1])\n",
    "            tag_counter = tag_counter - 1\n",
    "        # collect the responses without getting the first tag list\n",
    "        if counter > 1:\n",
    "            # split list by '<Response>' key word & append 2 chunks into user list and response list\n",
    "            temp = [[]]\n",
    "            for i in t:\n",
    "                if i == '<Response>':\n",
    "                    temp.append([])\n",
    "                else:\n",
    "                    temp[-1].append(i)\n",
    "            user_list.append(temp[0])\n",
    "            response_list.append(temp[1])\n",
    "        counter += 1\n",
    "    # remove the leftover tag that got appended to the responses except for the last entry\n",
    "    for u in range(0, len(response_list) - 1):\n",
    "        response_list[u].pop()\n",
    "    return tag_list, user_list, response_list"
   ]
  },
  {
   "cell_type": "code",
   "execution_count": null,
   "metadata": {},
   "outputs": [],
   "source": [
    "# Assign directory of folder holding all intents documents\n",
    "directory = '/Users/angelo/Desktop/DSC540/ML_Project/Intents'\n",
    "# initialize df\n",
    "list_bucket = []\n",
    "for filename in os.listdir(directory):\n",
    "    if filename.endswith('.txt'):\n",
    "        with open(os.path.join(directory, filename)) as f:\n",
    "            data = f.read()\n",
    "        doc_tags, user_intents, bot_responses = doc_processing(data)\n",
    "        # append to pandas dataframe with the following data structure:\n",
    "        # [tag,user_input, [bot answers]]\n",
    "\n",
    "        # iterate through doc_tags and replicate tags\n",
    "        for i in range(0,len(doc_tags)):\n",
    "            for j in user_intents[i]:\n",
    "                list_bucket.append([doc_tags[i], j, bot_responses[i]])\n",
    "\n",
    "df = pd.DataFrame(list_bucket, columns=['tags', 'user_phrases', 'bot_responses'])\n",
    "\n",
    "# save parsed data to file titled 'dataframe_intents'\n",
    "df.to_csv('dataframe_intents', sep=',')"
   ]
  },
  {
   "cell_type": "markdown",
   "metadata": {},
   "source": [
    "### Data Exploration"
   ]
  },
  {
   "cell_type": "code",
   "execution_count": 89,
   "metadata": {},
   "outputs": [
    {
     "name": "stdout",
     "output_type": "stream",
     "text": [
      "There are 119 unique intent classes to be predicted.\n",
      "With 5160 unique User Phrases for training and testing.\n"
     ]
    },
    {
     "data": {
      "text/html": [
       "<div>\n",
       "<style scoped>\n",
       "    .dataframe tbody tr th:only-of-type {\n",
       "        vertical-align: middle;\n",
       "    }\n",
       "\n",
       "    .dataframe tbody tr th {\n",
       "        vertical-align: top;\n",
       "    }\n",
       "\n",
       "    .dataframe thead th {\n",
       "        text-align: right;\n",
       "    }\n",
       "</style>\n",
       "<table border=\"1\" class=\"dataframe\">\n",
       "  <thead>\n",
       "    <tr style=\"text-align: right;\">\n",
       "      <th></th>\n",
       "      <th>Unnamed: 0</th>\n",
       "      <th>tags</th>\n",
       "      <th>user_phrases</th>\n",
       "      <th>bot_responses</th>\n",
       "    </tr>\n",
       "  </thead>\n",
       "  <tbody>\n",
       "    <tr>\n",
       "      <th>0</th>\n",
       "      <td>0</td>\n",
       "      <td>Residence</td>\n",
       "      <td>in which city do you live</td>\n",
       "      <td>[Right here in your device. Whenever you need ...</td>\n",
       "    </tr>\n",
       "    <tr>\n",
       "      <th>1</th>\n",
       "      <td>1</td>\n",
       "      <td>Residence</td>\n",
       "      <td>is it your hometown</td>\n",
       "      <td>[Right here in your device. Whenever you need ...</td>\n",
       "    </tr>\n",
       "    <tr>\n",
       "      <th>2</th>\n",
       "      <td>2</td>\n",
       "      <td>Residence</td>\n",
       "      <td>tell me about your city</td>\n",
       "      <td>[Right here in your device. Whenever you need ...</td>\n",
       "    </tr>\n",
       "    <tr>\n",
       "      <th>3</th>\n",
       "      <td>3</td>\n",
       "      <td>Residence</td>\n",
       "      <td>what is your city</td>\n",
       "      <td>[Right here in your device. Whenever you need ...</td>\n",
       "    </tr>\n",
       "    <tr>\n",
       "      <th>4</th>\n",
       "      <td>4</td>\n",
       "      <td>Residence</td>\n",
       "      <td>what is your residence</td>\n",
       "      <td>[Right here in your device. Whenever you need ...</td>\n",
       "    </tr>\n",
       "    <tr>\n",
       "      <th>...</th>\n",
       "      <td>...</td>\n",
       "      <td>...</td>\n",
       "      <td>...</td>\n",
       "      <td>...</td>\n",
       "    </tr>\n",
       "    <tr>\n",
       "      <th>6062</th>\n",
       "      <td>6062</td>\n",
       "      <td>Greetings: nice to talk to you</td>\n",
       "      <td>Its been so nice talking with you</td>\n",
       "      <td>[Always a pleasure., It sure was. Don't be a s...</td>\n",
       "    </tr>\n",
       "    <tr>\n",
       "      <th>6063</th>\n",
       "      <td>6063</td>\n",
       "      <td>Greetings: nice to talk to you</td>\n",
       "      <td>How nice its been talking with you</td>\n",
       "      <td>[Always a pleasure., It sure was. Don't be a s...</td>\n",
       "    </tr>\n",
       "    <tr>\n",
       "      <th>6064</th>\n",
       "      <td>6064</td>\n",
       "      <td>Greetings: nice to talk to you</td>\n",
       "      <td>Ive loved talking with you</td>\n",
       "      <td>[Always a pleasure., It sure was. Don't be a s...</td>\n",
       "    </tr>\n",
       "    <tr>\n",
       "      <th>6065</th>\n",
       "      <td>6065</td>\n",
       "      <td>Greetings: nice to talk to you</td>\n",
       "      <td>This has been so nice talking with you</td>\n",
       "      <td>[Always a pleasure., It sure was. Don't be a s...</td>\n",
       "    </tr>\n",
       "    <tr>\n",
       "      <th>6066</th>\n",
       "      <td>6066</td>\n",
       "      <td>Greetings: nice to talk to you</td>\n",
       "      <td>Talking with you is so nice</td>\n",
       "      <td>[Always a pleasure., It sure was. Don't be a s...</td>\n",
       "    </tr>\n",
       "  </tbody>\n",
       "</table>\n",
       "<p>6067 rows × 4 columns</p>\n",
       "</div>"
      ],
      "text/plain": [
       "      Unnamed: 0                            tags  \\\n",
       "0              0                       Residence   \n",
       "1              1                       Residence   \n",
       "2              2                       Residence   \n",
       "3              3                       Residence   \n",
       "4              4                       Residence   \n",
       "...          ...                             ...   \n",
       "6062        6062  Greetings: nice to talk to you   \n",
       "6063        6063  Greetings: nice to talk to you   \n",
       "6064        6064  Greetings: nice to talk to you   \n",
       "6065        6065  Greetings: nice to talk to you   \n",
       "6066        6066  Greetings: nice to talk to you   \n",
       "\n",
       "                                user_phrases  \\\n",
       "0                  in which city do you live   \n",
       "1                        is it your hometown   \n",
       "2                    tell me about your city   \n",
       "3                          what is your city   \n",
       "4                     what is your residence   \n",
       "...                                      ...   \n",
       "6062       Its been so nice talking with you   \n",
       "6063      How nice its been talking with you   \n",
       "6064              Ive loved talking with you   \n",
       "6065  This has been so nice talking with you   \n",
       "6066             Talking with you is so nice   \n",
       "\n",
       "                                          bot_responses  \n",
       "0     [Right here in your device. Whenever you need ...  \n",
       "1     [Right here in your device. Whenever you need ...  \n",
       "2     [Right here in your device. Whenever you need ...  \n",
       "3     [Right here in your device. Whenever you need ...  \n",
       "4     [Right here in your device. Whenever you need ...  \n",
       "...                                                 ...  \n",
       "6062  [Always a pleasure., It sure was. Don't be a s...  \n",
       "6063  [Always a pleasure., It sure was. Don't be a s...  \n",
       "6064  [Always a pleasure., It sure was. Don't be a s...  \n",
       "6065  [Always a pleasure., It sure was. Don't be a s...  \n",
       "6066  [Always a pleasure., It sure was. Don't be a s...  \n",
       "\n",
       "[6067 rows x 4 columns]"
      ]
     },
     "execution_count": 89,
     "metadata": {},
     "output_type": "execute_result"
    }
   ],
   "source": [
    "# set directory of the saved file\n",
    "df_directory = '/Users/angelo/Desktop/DSC540/ML_Project/Final_code/dataframe_intents'\n",
    "\n",
    "df = pd.read_csv(df_directory)\n",
    "# parse text intrepretation of list of bot responses for list indexing of the bot_response var\n",
    "df['bot_responses']=df['bot_responses'].apply(lambda x: literal_eval(x))\n",
    "\n",
    "print('There are {} unique intent classes to be predicted.'.format(len(df['tags'].unique())))\n",
    "print('With {} unique User Phrases for training and testing.'.format(len(df['user_phrases'].unique())))\n",
    "\n",
    "df"
   ]
  },
  {
   "cell_type": "code",
   "execution_count": 124,
   "metadata": {},
   "outputs": [
    {
     "data": {
      "image/png": "[encoded data removed]",
      "text/plain": [
       "<Figure size 2160x720 with 1 Axes>"
      ]
     },
     "metadata": {
      "needs_background": "light"
     },
     "output_type": "display_data"
    }
   ],
   "source": [
    "# create a bar chart of all the intents by the number of user phrases\n",
    "bar_dict = {}\n",
    "for i in range(0,len(df)):\n",
    "    if df['tags'].iloc[i] in bar_dict.keys():\n",
    "        bar_dict[df['tags'].iloc[i]] += 1\n",
    "    else:\n",
    "        bar_dict[df['tags'].iloc[i]] = 1\n",
    "        \n",
    "# plot graph \n",
    "names = list(bar_dict.keys())\n",
    "values = list(bar_dict.values())\n",
    "\n",
    "plt.bar(range(len(bar_dict)), values, tick_label=names)\n",
    "plt.xticks(rotation=90)\n",
    "#plt.figure(figsize=(5,20))\n",
    "plt.rcParams[\"figure.figsize\"]=25,25\n",
    "plt.show()"
   ]
  },
  {
   "cell_type": "markdown",
   "metadata": {},
   "source": [
    "### Preprocessing The Data"
   ]
  },
  {
   "cell_type": "code",
   "execution_count": 128,
   "metadata": {},
   "outputs": [
    {
     "name": "stdout",
     "output_type": "stream",
     "text": [
      "X Train Size: 4853\n",
      "X Test Size: 1214\n"
     ]
    }
   ],
   "source": [
    "# Split into 80-20 training and testing data\n",
    "# Y data is the names of the intents (tags) and the X data is the inputted user phrases\n",
    "X_train, X_test, y_train, y_test = train_test_split(df['user_phrases'], df['tags'].values , test_size=0.20, random_state=0)\n",
    "# Show the size of datasets\n",
    "print('X Train Size:',X_train.shape[0])\n",
    "print('X Test Size:',X_test.shape[0])"
   ]
  },
  {
   "cell_type": "code",
   "execution_count": 141,
   "metadata": {},
   "outputs": [],
   "source": [
    "# Convert the user phrases into tokenized arrays of bag of words with numerical frequencies as values\n",
    "vectorizer = CountVectorizer(min_df=1)\n",
    "X_train_counts = vectorizer.fit_transform(X_train).toarray()\n",
    "X_test_counts = vectorizer.transform(X_test)"
   ]
  },
  {
   "cell_type": "code",
   "execution_count": 142,
   "metadata": {},
   "outputs": [
    {
     "name": "stdout",
     "output_type": "stream",
     "text": [
      "X Train Size: 1385\n",
      "X Test Size: 1385\n"
     ]
    }
   ],
   "source": [
    "# Convert tokenized data into term frequency by inverse document frequency\n",
    "tfidf_transformer = TfidfTransformer()\n",
    "# transform train and test data into tfidf form\n",
    "X_train_tfidf = tfidf_transformer.fit_transform(X_train_counts).toarray()\n",
    "X_test_tfidf = tfidf_transformer.transform(X_test_counts)\n",
    "print('X Train Size:',X_train_tfidf.shape[1])\n",
    "print('X Test Size:',X_test_tfidf.shape[1])"
   ]
  },
  {
   "cell_type": "markdown",
   "metadata": {},
   "source": [
    "### Random Forest Classifier"
   ]
  },
  {
   "cell_type": "code",
   "execution_count": null,
   "metadata": {},
   "outputs": [],
   "source": [
    "# Use grid search to calculate the best parameters\n",
    "param_grid = { \n",
    "    'n_estimators': [400, 425, 450, 475, 500, 525, 575, 600],\n",
    "    'max_features': ['auto', 'sqrt', 'log2'],\n",
    "    'max_depth' : [2,4,6,8,16, None],\n",
    "    'criterion' :['gini', 'entropy']\n",
    "}\n",
    "# initialize forest model\n",
    "rfc = RandomForestClassifier(random_state=33)\n",
    "# use grid search with 5 cross fold validation\n",
    "CV_rfc = GridSearchCV(estimator=rfc, param_grid=param_grid, cv= 5)\n",
    "CV_rfc.fit(X_train_tfidf, y_train)"
   ]
  },
  {
   "cell_type": "code",
   "execution_count": 161,
   "metadata": {},
   "outputs": [
    {
     "data": {
      "text/plain": [
       "{'criterion': 'gini',\n",
       " 'max_depth': None,\n",
       " 'max_features': 'log2',\n",
       " 'n_estimators': 600}"
      ]
     },
     "execution_count": 161,
     "metadata": {},
     "output_type": "execute_result"
    }
   ],
   "source": [
    "# print out best parameters\n",
    "CV_rfc.best_params_"
   ]
  },
  {
   "cell_type": "code",
   "execution_count": 144,
   "metadata": {},
   "outputs": [
    {
     "name": "stdout",
     "output_type": "stream",
     "text": [
      "                                      precision    recall  f1-score   support\n",
      "\n",
      "                        Acquaintance    0.60000   0.42857   0.50000         7\n",
      "                            Annoying    0.50000   0.66667   0.57143         3\n",
      "                  Answer My question    1.00000   0.50000   0.66667         2\n",
      "                              Author    1.00000   1.00000   1.00000         6\n",
      "                                 Bad    0.50000   0.42105   0.45714        38\n",
      "                           Be Clever    0.75000   1.00000   0.85714         6\n",
      "                           Beautiful    0.83333   1.00000   0.90909        10\n",
      "                          Birth Date    1.00000   1.00000   1.00000         2\n",
      "                              Boring    0.80000   0.66667   0.72727         6\n",
      "                       Bot Affection    0.58065   0.50000   0.53731        36\n",
      "                        Bot Identity    0.40000   0.50000   0.44444        12\n",
      "                                Busy    0.60000   0.42857   0.50000         7\n",
      "                       Bye (General)    0.61111   0.52381   0.56410        21\n",
      "                        Can you help    0.50000   0.40000   0.44444         5\n",
      "                   Care the Language    1.00000   1.00000   1.00000         6\n",
      "                             Chatbot    0.60000   0.75000   0.66667         4\n",
      "                              Clever    0.66667   0.28571   0.40000         7\n",
      "                               Color    1.00000   1.00000   1.00000         3\n",
      "                 Confirmation Cancel    0.83333   0.71429   0.76923         7\n",
      "                     Confirmation NO    0.77778   0.77778   0.77778         9\n",
      "                    Confirmation yes    0.19444   0.63636   0.29787        11\n",
      "                               Crazy    0.33333   0.28571   0.30769         7\n",
      "                     Default Welcome    0.66667   0.66667   0.66667         6\n",
      "                      Emotion: Ha Ha    0.75000   0.27273   0.40000        11\n",
      "                           Enjoyment    1.00000   0.75000   0.85714         4\n",
      "                               Fired    1.00000   0.66667   0.80000         6\n",
      "                              Friend    0.45455   0.38462   0.41667        13\n",
      "                         Gaming Fact    1.00000   1.00000   1.00000         5\n",
      "                                Good    0.42857   0.37500   0.40000         8\n",
      "                        Good Evening    1.00000   1.00000   1.00000         4\n",
      "                        Good Morning    1.00000   1.00000   1.00000         3\n",
      "                          Good Night    0.66667   0.50000   0.57143         4\n",
      "                   Greetings whatsup    0.00000   0.00000   0.00000         2\n",
      "         Greetings: nice to meet you    1.00000   0.87500   0.93333         8\n",
      "          Greetings: nice to see you    1.00000   1.00000   1.00000         4\n",
      "      Greetings: nice to talk to you    0.66667   1.00000   0.80000         6\n",
      "                               Happy    1.00000   1.00000   1.00000         2\n",
      "                               Hobby    1.00000   0.87500   0.93333         8\n",
      "                         How are you    0.40000   0.40000   0.40000         5\n",
      "                                 Hug    0.66667   1.00000   0.80000         2\n",
      "                              Hungry    1.00000   1.00000   1.00000         3\n",
      "                       I do not care    0.75000   0.60000   0.66667         5\n",
      "                         I need help    0.50000   1.00000   0.66667         2\n",
      "                                Life    1.00000   1.00000   1.00000         3\n",
      "                               Marry    0.33333   0.40000   0.36364         5\n",
      "                     My Neighborhood    1.00000   1.00000   1.00000         6\n",
      "                             My Park    1.00000   1.00000   1.00000         2\n",
      "          My Park Activities General    0.42857   1.00000   0.60000         6\n",
      "                       NOT (General)    0.83333   0.83333   0.83333         6\n",
      "                                Name    1.00000   1.00000   1.00000         2\n",
      "                          No problem    0.50000   0.33333   0.40000         6\n",
      "                          Occupation    0.60000   0.60000   0.60000         5\n",
      "                        Ok (General)    0.00000   0.00000   0.00000         5\n",
      "                              Origin    0.50000   0.25000   0.33333         4\n",
      "            Parks Activities Near Me    1.00000   1.00000   1.00000        49\n",
      "   Parks Activities When Day Of Week    0.94737   1.00000   0.97297        18\n",
      "         Parks Activities When Month    1.00000   1.00000   1.00000         8\n",
      "Parks Activities When Specific Dates    1.00000   1.00000   1.00000        17\n",
      "     Parks Activities When This Week    1.00000   1.00000   1.00000        31\n",
      "           Parks Near Me By Activity    1.00000   1.00000   1.00000        46\n",
      "Parks Specific Activities When Month    1.00000   1.00000   1.00000        19\n",
      "                         Parks Where    1.00000   0.94406   0.97122       143\n",
      "            Parks Where Neighborhood    1.00000   1.00000   1.00000        29\n",
      "                          Random Cat    1.00000   1.00000   1.00000         3\n",
      "                     Reaction Amused    0.63636   0.77778   0.70000        18\n",
      "                Reaction Indifferent    0.42857   0.60000   0.50000         5\n",
      "                   Reaction negative    0.57265   0.71277   0.63507        94\n",
      "                   Reaction positive    0.67010   0.80247   0.73034        81\n",
      "              Reaction understanding    0.75000   0.75000   0.75000         8\n",
      "                               Ready    1.00000   1.00000   1.00000         3\n",
      "                                Real    0.75000   0.54545   0.63158        11\n",
      "                             Refocus    1.00000   0.50000   0.66667         4\n",
      "                      Request Advice    1.00000   0.37500   0.54545         8\n",
      "                           Residence    0.62500   0.71429   0.66667         7\n",
      "                               Right    0.42857   0.42857   0.42857         7\n",
      "                      Stop (General)    0.40000   0.28571   0.33333         7\n",
      "                                Sure    1.00000   1.00000   1.00000         3\n",
      "                               Swear    1.00000   0.60000   0.75000        10\n",
      "                    Thanks (General)    0.80000   0.61538   0.69565        13\n",
      "                               There    0.75000   1.00000   0.85714         3\n",
      "                            USer sad    0.25000   0.20000   0.22222         5\n",
      "                          User Happy    0.75000   0.50000   0.60000         6\n",
      "                          User angry    1.00000   0.66667   0.80000         6\n",
      "                     User apologetic    1.00000   1.00000   1.00000         4\n",
      "                           User back    0.75000   0.75000   0.75000         4\n",
      "                          User bored    0.50000   0.25000   0.33333         4\n",
      "                           User busy    0.33333   0.20000   0.25000         5\n",
      "                        User clarify    1.00000   0.75000   0.85714         4\n",
      "                        User delayed    1.00000   0.42857   0.60000         7\n",
      "                        User excited    0.66667   0.66667   0.66667         3\n",
      "                   User going to bed    0.50000   1.00000   0.66667         2\n",
      "                           User good    0.00000   0.00000   0.00000         3\n",
      "                         User lonely    1.00000   0.33333   0.50000         3\n",
      "                     User looks like    1.00000   0.80000   0.88889         5\n",
      "                   User misses agent    0.66667   0.50000   0.57143         4\n",
      "                        User probing    0.50000   0.25000   0.33333         8\n",
      "                          User ready    0.28571   0.42857   0.34286        14\n",
      "                        User scoping    0.80000   0.80000   0.80000         5\n",
      "                         User sleepy    1.00000   0.87500   0.93333         8\n",
      "                          User tired    1.00000   0.75000   0.85714         8\n",
      "                  User wants to talk    0.60000   0.75000   0.66667         4\n",
      "                   User will be back    0.66667   0.66667   0.66667         6\n",
      "                             Weather    0.42857   1.00000   0.60000         3\n",
      "                           Well done    0.60000   0.42857   0.50000         7\n",
      "                    What do you like    0.83333   0.62500   0.71429         8\n",
      "                               Wrong    0.33333   0.33333   0.33333         6\n",
      "                     You Are Welcome    1.00000   0.60000   0.75000         5\n",
      "                         request job    0.83333   1.00000   0.90909        10\n",
      "                        request name    1.00000   1.00000   1.00000         2\n",
      "                        suicide help    1.00000   1.00000   1.00000         1\n",
      "             user dosnt want to talk    0.25000   0.25000   0.25000         4\n",
      "                   user has birthday    1.00000   0.85714   0.92308         7\n",
      "                           user here    0.71429   1.00000   0.83333         5\n",
      "                         user joking    0.60000   0.75000   0.66667         4\n",
      "                    user loves agent    1.00000   0.33333   0.50000         3\n",
      "                  user testing agent    0.60000   0.75000   0.66667         4\n",
      "                          user waits    1.00000   0.80000   0.88889         5\n",
      "             user wants to see agent    1.00000   1.00000   1.00000         1\n",
      "\n",
      "                            accuracy                        0.74465      1214\n",
      "                           macro avg    0.74107   0.69671   0.69930      1214\n",
      "                        weighted avg    0.76663   0.74465   0.74355      1214\n",
      "\n"
     ]
    },
    {
     "name": "stderr",
     "output_type": "stream",
     "text": [
      "/opt/anaconda3/lib/python3.8/site-packages/sklearn/metrics/_classification.py:1221: UndefinedMetricWarning: Precision and F-score are ill-defined and being set to 0.0 in labels with no predicted samples. Use `zero_division` parameter to control this behavior.\n",
      "  _warn_prf(average, modifier, msg_start, len(result))\n"
     ]
    }
   ],
   "source": [
    "# run model with grid search parameters\n",
    "rfc_tfidf = RandomForestClassifier(random_state=33,criterion = 'gini', max_depth=None, max_features = 'log2', n_estimators=600)\n",
    "rfc_tfidf.fit(X_train_tfidf, y_train)\n",
    "pred = rfc_tfidf.predict(X_test_tfidf.toarray())\n",
    "print(metrics.classification_report(y_test, pred,  digits=5))"
   ]
  },
  {
   "cell_type": "markdown",
   "metadata": {},
   "source": [
    "### SVM Classifier"
   ]
  },
  {
   "cell_type": "code",
   "execution_count": 66,
   "metadata": {},
   "outputs": [
    {
     "name": "stdout",
     "output_type": "stream",
     "text": [
      "                                      precision    recall  f1-score   support\n",
      "\n",
      "                        Acquaintance    0.66667   0.57143   0.61538         7\n",
      "                            Annoying    0.50000   0.66667   0.57143         3\n",
      "                  Answer My question    1.00000   0.50000   0.66667         2\n",
      "                              Author    1.00000   0.66667   0.80000         6\n",
      "                                 Bad    0.55556   0.52632   0.54054        38\n",
      "                           Be Clever    0.85714   1.00000   0.92308         6\n",
      "                           Beautiful    0.90909   1.00000   0.95238        10\n",
      "                          Birth Date    0.66667   1.00000   0.80000         2\n",
      "                              Boring    1.00000   0.66667   0.80000         6\n",
      "                       Bot Affection    0.64286   0.50000   0.56250        36\n",
      "                        Bot Identity    0.35294   0.50000   0.41379        12\n",
      "                                Busy    0.50000   0.42857   0.46154         7\n",
      "                       Bye (General)    0.73333   0.52381   0.61111        21\n",
      "                        Can you help    1.00000   0.80000   0.88889         5\n",
      "                   Care the Language    1.00000   1.00000   1.00000         6\n",
      "                             Chatbot    0.50000   1.00000   0.66667         4\n",
      "                              Clever    0.66667   0.28571   0.40000         7\n",
      "                               Color    1.00000   1.00000   1.00000         3\n",
      "                 Confirmation Cancel    1.00000   0.71429   0.83333         7\n",
      "                     Confirmation NO    0.61538   0.88889   0.72727         9\n",
      "                    Confirmation yes    0.50000   0.45455   0.47619        11\n",
      "                               Crazy    0.33333   0.28571   0.30769         7\n",
      "                     Default Welcome    0.55556   0.83333   0.66667         6\n",
      "                      Emotion: Ha Ha    0.75000   0.27273   0.40000        11\n",
      "                           Enjoyment    1.00000   1.00000   1.00000         4\n",
      "                               Fired    1.00000   0.83333   0.90909         6\n",
      "                              Friend    0.55556   0.76923   0.64516        13\n",
      "                         Gaming Fact    1.00000   1.00000   1.00000         5\n",
      "                                Good    0.20000   0.12500   0.15385         8\n",
      "                        Good Evening    1.00000   1.00000   1.00000         4\n",
      "                        Good Morning    1.00000   1.00000   1.00000         3\n",
      "                          Good Night    0.80000   1.00000   0.88889         4\n",
      "                   Greetings whatsup    0.00000   0.00000   0.00000         2\n",
      "         Greetings: nice to meet you    1.00000   0.87500   0.93333         8\n",
      "          Greetings: nice to see you    1.00000   0.75000   0.85714         4\n",
      "      Greetings: nice to talk to you    0.75000   1.00000   0.85714         6\n",
      "                               Happy    1.00000   1.00000   1.00000         2\n",
      "                               Hobby    1.00000   1.00000   1.00000         8\n",
      "                         How are you    1.00000   0.60000   0.75000         5\n",
      "                                 Hug    1.00000   1.00000   1.00000         2\n",
      "                              Hungry    0.75000   1.00000   0.85714         3\n",
      "                       I do not care    0.50000   0.40000   0.44444         5\n",
      "                         I need help    0.66667   1.00000   0.80000         2\n",
      "                                Life    1.00000   1.00000   1.00000         3\n",
      "                               Marry    0.62500   1.00000   0.76923         5\n",
      "                     My Neighborhood    1.00000   1.00000   1.00000         6\n",
      "                             My Park    1.00000   1.00000   1.00000         2\n",
      "          My Park Activities General    1.00000   1.00000   1.00000         6\n",
      "                       NOT (General)    1.00000   0.33333   0.50000         6\n",
      "                                Name    1.00000   0.50000   0.66667         2\n",
      "                          No problem    0.60000   0.50000   0.54545         6\n",
      "                          Occupation    0.80000   0.80000   0.80000         5\n",
      "                        Ok (General)    0.00000   0.00000   0.00000         5\n",
      "                              Origin    1.00000   0.75000   0.85714         4\n",
      "            Parks Activities Near Me    1.00000   1.00000   1.00000        49\n",
      "   Parks Activities When Day Of Week    1.00000   1.00000   1.00000        18\n",
      "         Parks Activities When Month    1.00000   1.00000   1.00000         8\n",
      "Parks Activities When Specific Dates    1.00000   1.00000   1.00000        17\n",
      "     Parks Activities When This Week    1.00000   1.00000   1.00000        31\n",
      "           Parks Near Me By Activity    1.00000   1.00000   1.00000        46\n",
      "Parks Specific Activities When Month    1.00000   1.00000   1.00000        19\n",
      "                         Parks Where    0.99306   1.00000   0.99652       143\n",
      "            Parks Where Neighborhood    1.00000   1.00000   1.00000        29\n",
      "                          Random Cat    1.00000   1.00000   1.00000         3\n",
      "                     Reaction Amused    0.65000   0.72222   0.68421        18\n",
      "                Reaction Indifferent    0.33333   0.40000   0.36364         5\n",
      "                   Reaction negative    0.51515   0.72340   0.60177        94\n",
      "                   Reaction positive    0.66346   0.85185   0.74595        81\n",
      "              Reaction understanding    0.62500   0.62500   0.62500         8\n",
      "                               Ready    1.00000   1.00000   1.00000         3\n",
      "                                Real    1.00000   0.45455   0.62500        11\n",
      "                             Refocus    0.66667   0.50000   0.57143         4\n",
      "                      Request Advice    1.00000   0.75000   0.85714         8\n",
      "                           Residence    1.00000   1.00000   1.00000         7\n",
      "                               Right    0.50000   0.14286   0.22222         7\n",
      "                      Stop (General)    0.42857   0.42857   0.42857         7\n",
      "                                Sure    1.00000   1.00000   1.00000         3\n",
      "                               Swear    0.83333   0.50000   0.62500        10\n",
      "                    Thanks (General)    0.83333   0.76923   0.80000        13\n",
      "                               There    0.60000   1.00000   0.75000         3\n",
      "                            USer sad    1.00000   0.20000   0.33333         5\n",
      "                          User Happy    1.00000   0.50000   0.66667         6\n",
      "                          User angry    1.00000   0.66667   0.80000         6\n",
      "                     User apologetic    1.00000   1.00000   1.00000         4\n",
      "                           User back    0.60000   0.75000   0.66667         4\n",
      "                          User bored    0.80000   1.00000   0.88889         4\n",
      "                           User busy    1.00000   0.40000   0.57143         5\n",
      "                        User clarify    1.00000   0.50000   0.66667         4\n",
      "                        User delayed    0.66667   0.28571   0.40000         7\n",
      "                        User excited    0.50000   0.66667   0.57143         3\n",
      "                   User going to bed    0.40000   1.00000   0.57143         2\n",
      "                           User good    0.00000   0.00000   0.00000         3\n",
      "                         User lonely    0.66667   0.66667   0.66667         3\n",
      "                     User looks like    1.00000   1.00000   1.00000         5\n",
      "                   User misses agent    0.25000   0.25000   0.25000         4\n",
      "                        User probing    0.55556   0.62500   0.58824         8\n",
      "                          User ready    0.29412   0.35714   0.32258        14\n",
      "                        User scoping    1.00000   0.60000   0.75000         5\n",
      "                         User sleepy    0.88889   1.00000   0.94118         8\n",
      "                          User tired    1.00000   0.87500   0.93333         8\n",
      "                  User wants to talk    1.00000   0.75000   0.85714         4\n",
      "                   User will be back    0.66667   0.66667   0.66667         6\n",
      "                             Weather    0.60000   1.00000   0.75000         3\n",
      "                           Well done    1.00000   0.28571   0.44444         7\n",
      "                    What do you like    1.00000   0.75000   0.85714         8\n",
      "                               Wrong    0.50000   0.16667   0.25000         6\n",
      "                     You Are Welcome    0.80000   0.80000   0.80000         5\n",
      "                         request job    1.00000   1.00000   1.00000        10\n",
      "                        request name    0.66667   1.00000   0.80000         2\n",
      "                        suicide help    1.00000   1.00000   1.00000         1\n",
      "             user dosnt want to talk    0.50000   0.75000   0.60000         4\n",
      "                   user has birthday    1.00000   0.85714   0.92308         7\n",
      "                           user here    0.83333   1.00000   0.90909         5\n",
      "                         user joking    0.50000   0.50000   0.50000         4\n",
      "                    user loves agent    0.66667   0.66667   0.66667         3\n",
      "                  user testing agent    0.66667   0.50000   0.57143         4\n",
      "                          user waits    1.00000   0.80000   0.88889         5\n",
      "             user wants to see agent    0.50000   1.00000   0.66667         1\n",
      "\n",
      "                            accuracy                        0.77512      1214\n",
      "                           macro avg    0.77726   0.72902   0.72844      1214\n",
      "                        weighted avg    0.79280   0.77512   0.76828      1214\n",
      "\n"
     ]
    },
    {
     "name": "stderr",
     "output_type": "stream",
     "text": [
      "/opt/anaconda3/lib/python3.8/site-packages/sklearn/metrics/_classification.py:1221: UndefinedMetricWarning: Precision and F-score are ill-defined and being set to 0.0 in labels with no predicted samples. Use `zero_division` parameter to control this behavior.\n",
      "  _warn_prf(average, modifier, msg_start, len(result))\n"
     ]
    }
   ],
   "source": [
    "# Define the parameters to tune\n",
    "parameters = {'C': [0.1, 1, 10, 100, 1000], \n",
    "              'gamma': [1, 'auto', 'scale', 0.1, 0.01, 0.001, 0.0001],\n",
    "              'kernel': ['linear','poly','rbf','sigmoid']}\n",
    "# Tune parameters using Grid Search and a SVC model\n",
    "model = GridSearchCV(SVC(), parameters, cv=5, n_jobs=-1).fit(X_train_tfidf, y_train)\n",
    "# Predicting the Test set results\n",
    "y_pred = model.predict(X_test_tfidf)\n",
    "# print out stats\n",
    "print(metrics.classification_report(y_test, y_pred,  digits=5))"
   ]
  },
  {
   "cell_type": "code",
   "execution_count": 67,
   "metadata": {},
   "outputs": [
    {
     "data": {
      "text/plain": [
       "{'C': 1000, 'gamma': 0.001, 'kernel': 'rbf'}"
      ]
     },
     "execution_count": 67,
     "metadata": {},
     "output_type": "execute_result"
    }
   ],
   "source": [
    "# output the best paramters\n",
    "model.best_params_"
   ]
  },
  {
   "cell_type": "code",
   "execution_count": 68,
   "metadata": {},
   "outputs": [
    {
     "name": "stdout",
     "output_type": "stream",
     "text": [
      "0.7751235584843492\n"
     ]
    }
   ],
   "source": [
    "# build the model with the best paramters\n",
    "model = SVC(kernel='rbf', C= 1000, gamma = 0.001, random_state=33)\n",
    "model.fit(X_train_tfidf, y_train)\n",
    "y_pred = model.predict(X_test_tfidf)\n",
    "print(accuracy_score(y_test,y_pred))"
   ]
  },
  {
   "cell_type": "markdown",
   "metadata": {},
   "source": [
    "### KNN Classifier"
   ]
  },
  {
   "cell_type": "code",
   "execution_count": 173,
   "metadata": {},
   "outputs": [
    {
     "name": "stdout",
     "output_type": "stream",
     "text": [
      "                                      precision    recall  f1-score   support\n",
      "\n",
      "                        Acquaintance    1.00000   0.25000   0.40000         4\n",
      "                            Annoying    0.14286   0.50000   0.22222         2\n",
      "                  Answer My question    1.00000   1.00000   1.00000         6\n",
      "                              Author    0.87500   0.87500   0.87500         8\n",
      "                                 Bad    0.23529   0.40000   0.29630        10\n",
      "                           Be Clever    0.55556   1.00000   0.71429         5\n",
      "                           Beautiful    0.83333   0.83333   0.83333         6\n",
      "                          Birth Date    0.60000   1.00000   0.75000         3\n",
      "                              Boring    0.75000   0.27273   0.40000        11\n",
      "                       Bot Affection    0.47368   0.56250   0.51429        32\n",
      "                             Bot Bad    0.09091   0.14286   0.11111         7\n",
      "                        Bot Identity    0.00000   0.00000   0.00000         2\n",
      "                         Bot Purpose    0.27273   0.37500   0.31579         8\n",
      "                                Busy    0.62500   0.55556   0.58824         9\n",
      "                       Bye (General)    0.61538   0.42105   0.50000        19\n",
      "                        Can you help    0.66667   0.50000   0.57143         8\n",
      "                   Care the Language    1.00000   1.00000   1.00000         1\n",
      "                             Chatbot    0.25000   0.33333   0.28571         3\n",
      "                              Clever    0.20000   0.28571   0.23529         7\n",
      "                               Color    1.00000   1.00000   1.00000         6\n",
      "                 Confirmation Cancel    1.00000   0.73684   0.84848        19\n",
      "                     Confirmation NO    0.72727   0.80000   0.76190        10\n",
      "                    Confirmation yes    0.19355   0.60000   0.29268        10\n",
      "                               Crazy    0.00000   0.00000   0.00000         8\n",
      "                     Default Welcome    0.50000   0.75000   0.60000         4\n",
      "                      Emotion: Ha Ha    0.14286   0.07143   0.09524        14\n",
      "                           Enjoyment    1.00000   1.00000   1.00000         4\n",
      "                               Fired    0.00000   0.00000   0.00000         4\n",
      "                              Friend    0.16667   0.10000   0.12500        10\n",
      "                         Gaming Fact    1.00000   1.00000   1.00000         5\n",
      "                                Good    0.11111   0.10000   0.10526        10\n",
      "                        Good Evening    1.00000   0.66667   0.80000         3\n",
      "                        Good Morning    1.00000   0.66667   0.80000         3\n",
      "                          Good Night    0.28571   0.50000   0.36364         4\n",
      "                   Greetings whatsup    0.00000   0.00000   0.00000         3\n",
      "                  Greetings: Whatsup    0.00000   0.00000   0.00000         2\n",
      "         Greetings: nice to meet you    1.00000   1.00000   1.00000         1\n",
      "          Greetings: nice to see you    1.00000   1.00000   1.00000         4\n",
      "      Greetings: nice to talk to you    1.00000   1.00000   1.00000         5\n",
      "                               Happy    1.00000   0.50000   0.66667         4\n",
      "                               Hobby    0.66667   1.00000   0.80000         4\n",
      "                         How are you    0.75000   0.60000   0.66667         5\n",
      "                                 Hug    1.00000   1.00000   1.00000         5\n",
      "                              Hungry    1.00000   0.50000   0.66667         4\n",
      "                       I do not care    0.00000   0.00000   0.00000         4\n",
      "                         I need help    1.00000   0.50000   0.66667         4\n",
      "                                Life    1.00000   1.00000   1.00000         2\n",
      "                               Marry    0.11111   0.25000   0.15385         4\n",
      "                     My Neighborhood    0.75000   0.60000   0.66667         5\n",
      "                             My Park    0.57143   0.80000   0.66667         5\n",
      "          My Park Activities General    1.00000   0.85714   0.92308         7\n",
      "                       NOT (General)    0.50000   0.50000   0.50000         2\n",
      "                                Name    0.00000   0.00000   0.00000         1\n",
      "                          No problem    0.37500   0.42857   0.40000         7\n",
      "                        Ok (General)    0.00000   0.00000   0.00000         7\n",
      "                              Origin    1.00000   0.40000   0.57143         5\n",
      "            Parks Activities Near Me    0.82143   1.00000   0.90196        46\n",
      "   Parks Activities When Day Of Week    1.00000   0.88889   0.94118        18\n",
      "         Parks Activities When Month    1.00000   1.00000   1.00000         3\n",
      "Parks Activities When Specific Dates    1.00000   1.00000   1.00000        16\n",
      "     Parks Activities When This Week    0.96296   0.92857   0.94545        28\n",
      "           Parks Near Me By Activity    1.00000   1.00000   1.00000        46\n",
      "Parks Specific Activities When Month    1.00000   0.70833   0.82927        24\n",
      "                         Parks Where    1.00000   1.00000   1.00000       132\n",
      "            Parks Where Neighborhood    1.00000   1.00000   1.00000        29\n",
      "                          Random Cat    1.00000   1.00000   1.00000         2\n",
      "                     Reaction Amused    0.66667   0.73333   0.69841        30\n",
      "                Reaction Indifferent    0.62500   0.55556   0.58824         9\n",
      "                   Reaction negative    0.50515   0.59036   0.54444        83\n",
      "                   Reaction positive    0.64486   0.75824   0.69697        91\n",
      "              Reaction understanding    0.33333   0.25000   0.28571         4\n",
      "                               Ready    1.00000   1.00000   1.00000         3\n",
      "                                Real    0.87500   0.87500   0.87500         8\n",
      "                             Refocus    0.66667   1.00000   0.80000         6\n",
      "                      Request Advice    1.00000   0.42857   0.60000         7\n",
      "                         Request age    1.00000   0.66667   0.80000         3\n",
      "                           Residence    0.83333   1.00000   0.90909         5\n",
      "                               Right    0.00000   0.00000   0.00000         5\n",
      "                      Stop (General)    0.53333   0.57143   0.55172        14\n",
      "                                Sure    1.00000   1.00000   1.00000         2\n",
      "                               Swear    1.00000   1.00000   1.00000         4\n",
      "                    Thanks (General)    0.75000   0.75000   0.75000        12\n",
      "                               There    0.00000   0.00000   0.00000         1\n",
      "                            USer sad    1.00000   0.28571   0.44444         7\n",
      "                          User Happy    0.50000   0.50000   0.50000         4\n",
      "                          User angry    1.00000   0.33333   0.50000         6\n",
      "                     User apologetic    1.00000   0.57143   0.72727         7\n",
      "                           User back    0.00000   0.00000   0.00000         1\n",
      "                          User bored    0.33333   0.33333   0.33333         3\n",
      "                           User busy    0.00000   0.00000   0.00000         7\n",
      "                        User clarify    1.00000   0.75000   0.85714         4\n",
      "                        User delayed    0.66667   0.57143   0.61538         7\n",
      "                        User excited    0.66667   0.66667   0.66667         3\n",
      "                   User going to bed    0.00000   0.00000   0.00000         1\n",
      "                           User good    0.80000   0.66667   0.72727         6\n",
      "                         User lonely    0.33333   0.50000   0.40000         2\n",
      "                     User looks like    1.00000   0.60000   0.75000         5\n",
      "                   User misses agent    0.00000   0.00000   0.00000         2\n",
      "                        User probing    0.66667   0.20000   0.30769        10\n",
      "                          User ready    0.20000   0.16667   0.18182        12\n",
      "                        User scoping    1.00000   0.33333   0.50000         3\n",
      "                         User sleepy    1.00000   0.80000   0.88889         5\n",
      "                          User tired    0.63636   1.00000   0.77778         7\n",
      "                    User unavailable    0.66667   0.75000   0.70588         8\n",
      "                  User wants to talk    0.33333   0.16667   0.22222         6\n",
      "                   User will be back    0.83333   0.83333   0.83333         6\n",
      "                             Weather    0.66667   1.00000   0.80000         4\n",
      "                           Well done    1.00000   0.50000   0.66667         4\n",
      "                    What do you like    0.70000   0.87500   0.77778         8\n",
      "                               Wrong    1.00000   0.40000   0.57143         5\n",
      "                     You Are Welcome    1.00000   0.57143   0.72727         7\n",
      "                         request job    0.75000   1.00000   0.85714         6\n",
      "                        request name    0.66667   1.00000   0.80000         2\n",
      "                        suicide help    1.00000   1.00000   1.00000         2\n",
      "             user dosnt want to talk    0.50000   0.40000   0.44444         5\n",
      "                   user has birthday    1.00000   0.71429   0.83333         7\n",
      "                           user here    1.00000   0.75000   0.85714         4\n",
      "                         user joking    1.00000   0.40000   0.57143         5\n",
      "                    user loves agent    1.00000   0.25000   0.40000         4\n",
      "                  user testing agent    0.57143   1.00000   0.72727         4\n",
      "                          user waits    1.00000   0.50000   0.66667         2\n",
      "             user wants to see agent    1.00000   0.80000   0.88889         5\n",
      "\n",
      "                            accuracy                        0.69205      1182\n",
      "                           macro avg    0.66186   0.59122   0.59836      1182\n",
      "                        weighted avg    0.72021   0.69205   0.68876      1182\n",
      "\n"
     ]
    },
    {
     "name": "stderr",
     "output_type": "stream",
     "text": [
      "/opt/anaconda3/lib/python3.8/site-packages/sklearn/metrics/_classification.py:1221: UndefinedMetricWarning: Precision and F-score are ill-defined and being set to 0.0 in labels with no predicted samples. Use `zero_division` parameter to control this behavior.\n",
      "  _warn_prf(average, modifier, msg_start, len(result))\n"
     ]
    }
   ],
   "source": [
    "# Define the parameters to tune\n",
    "parameters = { \n",
    "    'n_neighbors': [3,5,7,10,15,30],\n",
    "    'weights': ['uniform', 'distance'],\n",
    "    'metric': ['euclidean', 'manhattan']\n",
    "}\n",
    "# Tune parameters  using Grid Search and a SVC model\n",
    "model = GridSearchCV(neighbors.KNeighborsClassifier(), parameters, cv=5, n_jobs=-1).fit(X_train_tfidf, y_train)\n",
    "# Predicting the Test set results\n",
    "y_pred = model.predict(X_test_tfidf)\n",
    "print(metrics.classification_report(y_test, y_pred,  digits=5))"
   ]
  },
  {
   "cell_type": "code",
   "execution_count": 174,
   "metadata": {},
   "outputs": [
    {
     "data": {
      "text/plain": [
       "{'metric': 'manhattan', 'n_neighbors': 7, 'weights': 'distance'}"
      ]
     },
     "execution_count": 174,
     "metadata": {},
     "output_type": "execute_result"
    }
   ],
   "source": [
    "# print out best parameters\n",
    "model.best_params_"
   ]
  },
  {
   "cell_type": "code",
   "execution_count": 61,
   "metadata": {},
   "outputs": [
    {
     "name": "stdout",
     "output_type": "stream",
     "text": [
      "0.7207578253706755\n"
     ]
    }
   ],
   "source": [
    "# build model with best parameters\n",
    "model = neighbors.KNeighborsClassifier(metric = 'manhattan', n_neighbors = 7, weights = 'distance')\n",
    "model.fit(X_train_tfidf, y_train)\n",
    "y_pred = model.predict(X_test_tfidf)\n",
    "print(metrics.classification_report(y_test, y_pred,  digits=5))"
   ]
  },
  {
   "cell_type": "markdown",
   "metadata": {},
   "source": [
    "### Comparing model accuracies"
   ]
  },
  {
   "cell_type": "code",
   "execution_count": 149,
   "metadata": {},
   "outputs": [
    {
     "data": {
      "text/html": [
       "<div>\n",
       "<style scoped>\n",
       "    .dataframe tbody tr th:only-of-type {\n",
       "        vertical-align: middle;\n",
       "    }\n",
       "\n",
       "    .dataframe tbody tr th {\n",
       "        vertical-align: top;\n",
       "    }\n",
       "\n",
       "    .dataframe thead th {\n",
       "        text-align: right;\n",
       "    }\n",
       "</style>\n",
       "<table border=\"1\" class=\"dataframe\">\n",
       "  <thead>\n",
       "    <tr style=\"text-align: right;\">\n",
       "      <th></th>\n",
       "      <th>Precision</th>\n",
       "      <th>Recall</th>\n",
       "      <th>F1 Score</th>\n",
       "      <th>Accuracy</th>\n",
       "    </tr>\n",
       "  </thead>\n",
       "  <tbody>\n",
       "    <tr>\n",
       "      <th>Random Forest</th>\n",
       "      <td>0.74107</td>\n",
       "      <td>0.69671</td>\n",
       "      <td>0.69930</td>\n",
       "      <td>0.74465</td>\n",
       "    </tr>\n",
       "    <tr>\n",
       "      <th>SVM</th>\n",
       "      <td>0.77726</td>\n",
       "      <td>0.72902</td>\n",
       "      <td>0.72844</td>\n",
       "      <td>0.77512</td>\n",
       "    </tr>\n",
       "    <tr>\n",
       "      <th>KNN</th>\n",
       "      <td>0.66186</td>\n",
       "      <td>0.59122</td>\n",
       "      <td>0.59836</td>\n",
       "      <td>0.69205</td>\n",
       "    </tr>\n",
       "  </tbody>\n",
       "</table>\n",
       "</div>"
      ],
      "text/plain": [
       "               Precision   Recall  F1 Score  Accuracy\n",
       "Random Forest    0.74107  0.69671   0.69930   0.74465\n",
       "SVM              0.77726  0.72902   0.72844   0.77512\n",
       "KNN              0.66186  0.59122   0.59836   0.69205"
      ]
     },
     "execution_count": 149,
     "metadata": {},
     "output_type": "execute_result"
    }
   ],
   "source": [
    "Model_names = ['Random Forest', 'SVM', 'KNN']\n",
    "Metrics = ['Precision','Recall','F1 Score', 'Accuracy']\n",
    "values = [[0.74107,0.69671,0.69930,0.74465],[0.77726, 0.72902, 0.72844, 0.77512],[0.66186,0.59122,0.59836,0.69205]]\n",
    "Metrics_data = pd.DataFrame(values, columns=Metrics,index=Model_names)\n",
    "Metrics_data"
   ]
  },
  {
   "cell_type": "markdown",
   "metadata": {},
   "source": [
    "As seen by the metrics, the SVM model has the highest scores across the board with the accuracy being 3% higher than the random forest model, and 18% higher accuracy than the KNN model. "
   ]
  },
  {
   "cell_type": "markdown",
   "metadata": {},
   "source": [
    "### test the SVC model"
   ]
  },
  {
   "cell_type": "code",
   "execution_count": 62,
   "metadata": {},
   "outputs": [
    {
     "data": {
      "text/plain": [
       "SVC(C=1000, gamma=0.001, random_state=33)"
      ]
     },
     "execution_count": 62,
     "metadata": {},
     "output_type": "execute_result"
    }
   ],
   "source": [
    "# train model on 100% of the data\n",
    "X_train = df['user_phrases']\n",
    "y_train = df['tags'].values\n",
    "# vectorize data\n",
    "vectorizer = CountVectorizer(min_df=1)\n",
    "X_train_counts = vectorizer.fit_transform(X_train).toarray()\n",
    "\n",
    "# initialize tfidf\n",
    "tfidf_transformer = TfidfTransformer()\n",
    "# transform train and test data into tfidf form\n",
    "X_train_tfidf = tfidf_transformer.fit_transform(X_train_counts)\n",
    "\n",
    "model = SVC(kernel='rbf', C= 1000, gamma = 0.001, random_state=33)\n",
    "model.fit(X_train_tfidf, y_train)"
   ]
  },
  {
   "cell_type": "code",
   "execution_count": 150,
   "metadata": {},
   "outputs": [
    {
     "name": "stdout",
     "output_type": "stream",
     "text": [
      "You: hello\n",
      "Parky: Hello! How can I help you?\n",
      "You: can you tell me what you can do\n",
      "Parky: I'm a Chatbot available to help you 24x7\n",
      "You: do you have a favorite color?\n",
      "Parky: As a bot I can't see color but from how i look it looks like I llove pink.\n",
      "You: okay \n",
      "Parky: Sure.\n",
      "You: can you tell me which park in my neighborhood has yoga\n",
      "Parky: You picked: $my_neighborhood as your neighborhood\n",
      "You: is there yoga at Wilson Park\n",
      "Parky: Heres some activities you can do that are close by:\n",
      "You: thats not what i asked for\n",
      "Parky: You seem upset. Let me try and help you.\n",
      "You: how can you help me\n",
      "Parky: I'm a Chatbot available to help you 24x7\n",
      "You: you already said that\n",
      "Parky: Thanks!  Anything else I can help you with?\n",
      "You: nope\n",
      "Parky: Okay.\n",
      "You: goodbye\n",
      "Parky: You seem upset. Let me try and help you.\n",
      "You: im leaving\n",
      "Parky: Okay, let me know when you are free to chat.\n",
      "You: exit\n"
     ]
    }
   ],
   "source": [
    "while True:   \n",
    "    user_response = input('You: ')\n",
    "    if user_response == 'exit':\n",
    "        break\n",
    "    # vectorize user input\n",
    "    X_user_counts = vectorizer.transform([user_response]).toarray()\n",
    "    # TF-IDF transform user input\n",
    "    X_user_tfidf = tfidf_transformer.transform(X_user_counts)\n",
    "    # predict\n",
    "    pred = model.predict(X_user_tfidf)\n",
    "    # match predicted tag with db\n",
    "    response = list(df[df.tags == pred[0]].bot_responses)[0]\n",
    "    # select a random response\n",
    "    output = response[random.randint(0, len(response) - 1)]\n",
    "    print(f'Parky: {output}')"
   ]
  },
  {
   "cell_type": "markdown",
   "metadata": {},
   "source": [
    "### Future work\n",
    "The model has some trouble with the user inputs as seen by incorrect responses when asking about neighborhood yoga or even when saying goodbye. As seen by the final model, the accuracy is still quite low, so further improvements to the model should come from refining the dataset. The intermediate step of adding user phrases to each intent was successful at raising the initial accuracy of the model seeing as some intents have only 10-20 data points. Expanding and refining the training and testing data can lead to a more accurate model. \n",
    "\n",
    "The other method of increasing the accuracy could be to use a different method entirely. Often times natural language processing models will use a nural net model to classify intents. This would potentially create a stronger classifier that would be more accurate than the SVM model."
   ]
  },
  {
   "cell_type": "markdown",
   "metadata": {},
   "source": [
    "*Chatbot Application*\n",
    "\n",
    "While the model needs work, I wanted to still impliment a mid-scale chatbot application. The application still needs plenty of work, however it is fully functional in its current state. The model interfaces with a simple web scraping program that processes the users inputs into json data that posts to the Chicago Parks Department Events and Activities Website. After an intent is classified, a specific variable in the json data is edited from extracting key words from the users inputs. \n",
    "\n",
    "The application works by classifying the intent which pairs down which fields of the json data to edit. Then it extracts the key words from their sentences to fill out the data. For instance, if the user enters: \"Are there any parks in the Jefferson Park neighborhood that have yoga?\" the model will classify their input as searching the site for activites in a specific park. Then, further processing extracts the name of that park, and the name of the activity they are looking for. The json data is edited for those fields, and the website is scraped. The user can then work their way through 20 items at a time to see all available activities.\n",
    "\n",
    "The main focus of the model was to obtain this specific information about Chicago Parks Activities, however, due to the larger volume of intents, the chatbot can also respond to basic conversation that naturally fills around the specific Parks queries.\n",
    "\n",
    "To try out the chatbot webscraping, you can find a link to all the files in my github here:\n"
   ]
  }
 ],
 "metadata": {
  "kernelspec": {
   "display_name": "Python 3",
   "language": "python",
   "name": "python3"
  },
  "language_info": {
   "codemirror_mode": {
    "name": "ipython",
    "version": 3
   },
   "file_extension": ".py",
   "mimetype": "text/x-python",
   "name": "python",
   "nbconvert_exporter": "python",
   "pygments_lexer": "ipython3",
   "version": "3.8.3"
  }
 },
 "nbformat": 4,
 "nbformat_minor": 4
}
